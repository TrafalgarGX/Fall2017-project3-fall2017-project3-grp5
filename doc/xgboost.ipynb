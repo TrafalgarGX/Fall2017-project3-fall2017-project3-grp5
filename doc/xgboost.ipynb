{
 "cells": [
  {
   "cell_type": "markdown",
   "metadata": {},
   "source": [
    "# Project 3 | Group 5"
   ]
  },
  {
   "cell_type": "markdown",
   "metadata": {},
   "source": [
    "# Step 0: Prepare Environment and Load Packages"
   ]
  },
  {
   "cell_type": "markdown",
   "metadata": {},
   "source": [
    "Before you run next chunk, please follow the instructions to install all packages we need.\n",
    "\n",
    "**Pre-requirements:**\n",
    "    \n",
    "numpy, random, pickle, time, xgboost, PIL, gist, csv, FFTW\n",
    "\n",
    "**(1) Install numpy, random, pickle**\n",
    "\n",
    "$ pip install numpy\n",
    "\n",
    "$ pip install random\n",
    "\n",
    "$ pip install pickle\n",
    "\n",
    "**(2) Install FFTW**\n",
    "\n",
    "FFTW download: http://www.fftw.org\n",
    "\n",
    "Install instruction: http://www.fftw.org/fftw3_doc/Installation-on-Unix.html\n",
    "\n",
    "$ ./configure --enable-single --enable-shared\n",
    "\n",
    "$ make\n",
    "\n",
    "$ sudo make install\n",
    "\n",
    "**(3) Install gist**\n",
    "\n",
    "Download lear_gist: https://github.com/tuttieee/lear-gist-python\n",
    "\n",
    "$ sudo python setup.py build_ext\n",
    "\n",
    "$ python setup.py install\n",
    "\n",
    "If fftw3f is installed in non-standard path (for example, HOME/local), use -I and -L options:\n",
    "\n",
    "$ sudo python setup.py build_ext -I HOME/local/include -L HOME/local/lib\n",
    "\n",
    "**(4) Install xgboost**\n",
    "\n",
    "Instructions for Install XGBoost on Mac OSX : https://www.ibm.com/developerworks/community/blogs/jfp/entry/Installing_XGBoost_on_Mac_OSX?lang=en\n",
    "        \n",
    "You might encounter a problem when insert command \"make -j4\". Here is an efficeint way to solve the problem: https://stackoverflow.com/questions/36211018/clang-error-errorunsupported-option-fopenmp-on-mac-osx-el-capitan-buildin"
   ]
  },
  {
   "cell_type": "code",
   "execution_count": 1,
   "metadata": {
    "collapsed": true
   },
   "outputs": [],
   "source": [
    "import GIST\n",
    "import pandas as pd\n",
    "import random\n",
    "import pickle\n",
    "import time \n",
    "import xgboost"
   ]
  },
  {
   "cell_type": "markdown",
   "metadata": {},
   "source": [
    "# Step 1: Read Test Pictures Information"
   ]
  },
  {
   "cell_type": "markdown",
   "metadata": {},
   "source": [
    "Before you run next chunk, please make sure you meet following requirements:\n",
    "    \n",
    "(1) Make sure path variable is where you store all your test images\n",
    "\n",
    "(2) Make sure 5000 SIFT feature descriptors of your test images are stored in the data folder as feature_sift_test.csv\n",
    "\n",
    "(3) Make sure label of your test images are stored in the data folder as label_test.csv"
   ]
  },
  {
   "cell_type": "code",
   "execution_count": 2,
   "metadata": {
    "collapsed": true
   },
   "outputs": [],
   "source": [
    "path = \"/Users/siyi/Documents/Study-Columbia/17FALL/GR5243-Applied-Data-Science/Project3/training_set/images2\"\n",
    "GIST.feature_output(path)\n",
    "gist_new = pd.read_csv('feature.csv', skiprows=1, header = None).iloc[:, 1:]\n",
    "sift_new = pd.read_csv('../data/feature_sift_test.csv').iloc[:, 1:]\n",
    "label_new = pd.read_csv('../data/label_test.csv').iloc[:, 1]\n",
    "feature = pd.concat([sift_new, gist_new], axis=1)\n",
    "feature.columns = ['x' + str(i+1) for i in range(5000)] + ['f' + str(i+1) for i in range(960)]"
   ]
  },
  {
   "cell_type": "markdown",
   "metadata": {},
   "source": [
    "# Step 2: XGBoost Model"
   ]
  },
  {
   "cell_type": "code",
   "execution_count": 3,
   "metadata": {
    "collapsed": true
   },
   "outputs": [],
   "source": [
    "# require X_test, y_test\n",
    "X_test = feature\n",
    "y_test = label_new"
   ]
  },
  {
   "cell_type": "code",
   "execution_count": 4,
   "metadata": {
    "collapsed": true
   },
   "outputs": [],
   "source": [
    "# load the baseline model\n",
    "filename = '../output/model_baseline.sav'\n",
    "xgb_1 = pickle.load(open(filename, 'rb'))\n",
    "\n",
    "# load the tuned xgboost model\n",
    "filename = '../output/model_tuned.sav'\n",
    "xgb_2 = pickle.load(open(filename, 'rb'))"
   ]
  },
  {
   "cell_type": "code",
   "execution_count": 5,
   "metadata": {
    "collapsed": false
   },
   "outputs": [
    {
     "name": "stdout",
     "output_type": "stream",
     "text": [
      "Baseline: \n",
      "classification error=0.000000\n",
      "Tuned: \n",
      "classification error=0.000000\n"
     ]
    }
   ],
   "source": [
    "\n",
    "print(\"Baseline: \")\n",
    "pred = xgb_1.predict(X_test)\n",
    "y_label = y_test.values\n",
    "print ('classification error=%f' % (sum([pred[i] != y_label[i] for i in range(len(y_label))]) / float(len(y_label)) ))  \n",
    "print ('You can check training time in the file xgboost_train.py.')\n",
    "\n",
    "print(\"Tuned: \")\n",
    "pred = xgb_2.predict(X_test)\n",
    "y_label = y_test.values\n",
    "print ('classification error=%f' % (sum([pred[i] != y_label[i] for i in range(len(y_label))]) / float(len(y_label)) ))\n",
    "print ('You can check training time in the file xgboost_train.py.')"
   ]
  },
  {
   "cell_type": "code",
   "execution_count": null,
   "metadata": {
    "collapsed": true
   },
   "outputs": [],
   "source": []
  }
 ],
 "metadata": {
  "kernelspec": {
   "display_name": "Python 3",
   "language": "python",
   "name": "python3"
  },
  "language_info": {
   "codemirror_mode": {
    "name": "ipython",
    "version": 3
   },
   "file_extension": ".py",
   "mimetype": "text/x-python",
   "name": "python",
   "nbconvert_exporter": "python",
   "pygments_lexer": "ipython3",
   "version": "3.6.0"
  }
 },
 "nbformat": 4,
 "nbformat_minor": 2
}
